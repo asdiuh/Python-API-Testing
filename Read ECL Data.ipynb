{
 "cells": [
  {
   "cell_type": "code",
   "execution_count": null,
   "metadata": {
    "scrolled": true
   },
   "outputs": [],
   "source": [
    "import pandas as pd\n",
    "a = pd.read_csv('V3 - ECL.csv')\n",
    "a\n",
    "#select column\n",
    "a1 = a[\"2\"]\n",
    "#resolve column into true false\n",
    "a2 = a1 == \"MB2\"\n",
    "#apply true false vector to dataframe without subsetting any columns\n",
    "a3 = a[a2]\n",
    "#apply true false vector to dataframe THEN subset columns\n",
    "a4 = a[a2][[\"2\",\"3\", \"4\"]]\n",
    "#subset columns THEN subset columns\n",
    "a5 = a[[\"2\",\"3\",\"4\"]][a2]\n",
    "\n",
    "names = list(a.iloc[0,:])\n",
    "a.columns = names\n",
    "a = a.loc[1:,]\n",
    "a"
   ]
  },
  {
   "cell_type": "code",
   "execution_count": null,
   "metadata": {},
   "outputs": [],
   "source": [
    "pd.DataFrame.to_csv(a,'V3 - ECL - renamed columns.csv')"
   ]
  }
 ],
 "metadata": {
  "kernelspec": {
   "display_name": "Python 3",
   "language": "python",
   "name": "python3"
  },
  "language_info": {
   "codemirror_mode": {
    "name": "ipython",
    "version": 3
   },
   "file_extension": ".py",
   "mimetype": "text/x-python",
   "name": "python",
   "nbconvert_exporter": "python",
   "pygments_lexer": "ipython3",
   "version": "3.5.3"
  }
 },
 "nbformat": 4,
 "nbformat_minor": 2
}
